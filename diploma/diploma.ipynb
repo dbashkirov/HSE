{
  "nbformat": 4,
  "nbformat_minor": 0,
  "metadata": {
    "colab": {
      "name": "diploma.ipynb",
      "provenance": []
    },
    "kernelspec": {
      "name": "python3",
      "display_name": "Python 3"
    },
    "language_info": {
      "name": "python"
    },
    "accelerator": "GPU"
  },
  "cells": [
    {
      "cell_type": "code",
      "metadata": {
        "id": "e9HRAV5ofCqa",
        "colab": {
          "base_uri": "https://localhost:8080/"
        },
        "outputId": "40cfbcad-3963-4d5c-b0aa-81c962f67f2a"
      },
      "source": [
        "!pip install autokeras"
      ],
      "execution_count": null,
      "outputs": [
        {
          "output_type": "stream",
          "text": [
            "Collecting autokeras\n",
            "\u001b[?25l  Downloading https://files.pythonhosted.org/packages/75/c7/9a8d37ae2d7e66ad545abc722b8d2d4311325c5cd23bd138085e78996cd4/autokeras-1.0.14-py3-none-any.whl (166kB)\n",
            "\r\u001b[K     |██                              | 10kB 21.5MB/s eta 0:00:01\r\u001b[K     |████                            | 20kB 29.7MB/s eta 0:00:01\r\u001b[K     |██████                          | 30kB 22.9MB/s eta 0:00:01\r\u001b[K     |███████▉                        | 40kB 25.4MB/s eta 0:00:01\r\u001b[K     |█████████▉                      | 51kB 28.2MB/s eta 0:00:01\r\u001b[K     |███████████▉                    | 61kB 30.2MB/s eta 0:00:01\r\u001b[K     |█████████████▉                  | 71kB 24.4MB/s eta 0:00:01\r\u001b[K     |███████████████▊                | 81kB 24.9MB/s eta 0:00:01\r\u001b[K     |█████████████████▊              | 92kB 26.2MB/s eta 0:00:01\r\u001b[K     |███████████████████▊            | 102kB 26.3MB/s eta 0:00:01\r\u001b[K     |█████████████████████▊          | 112kB 26.3MB/s eta 0:00:01\r\u001b[K     |███████████████████████▋        | 122kB 26.3MB/s eta 0:00:01\r\u001b[K     |█████████████████████████▋      | 133kB 26.3MB/s eta 0:00:01\r\u001b[K     |███████████████████████████▋    | 143kB 26.3MB/s eta 0:00:01\r\u001b[K     |█████████████████████████████▋  | 153kB 26.3MB/s eta 0:00:01\r\u001b[K     |███████████████████████████████▌| 163kB 26.3MB/s eta 0:00:01\r\u001b[K     |████████████████████████████████| 174kB 26.3MB/s \n",
            "\u001b[?25hCollecting keras-tuner>=1.0.2\n",
            "\u001b[?25l  Downloading https://files.pythonhosted.org/packages/20/ec/1ef246787174b1e2bb591c95f29d3c1310070cad877824f907faba3dade9/keras-tuner-1.0.2.tar.gz (62kB)\n",
            "\u001b[K     |████████████████████████████████| 71kB 10.1MB/s \n",
            "\u001b[?25hRequirement already satisfied: packaging in /usr/local/lib/python3.7/dist-packages (from autokeras) (20.9)\n",
            "Requirement already satisfied: pandas in /usr/local/lib/python3.7/dist-packages (from autokeras) (1.1.5)\n",
            "Requirement already satisfied: scikit-learn in /usr/local/lib/python3.7/dist-packages (from autokeras) (0.22.2.post1)\n",
            "Requirement already satisfied: tensorflow>=2.3.0 in /usr/local/lib/python3.7/dist-packages (from autokeras) (2.5.0)\n",
            "Requirement already satisfied: future in /usr/local/lib/python3.7/dist-packages (from keras-tuner>=1.0.2->autokeras) (0.16.0)\n",
            "Requirement already satisfied: numpy in /usr/local/lib/python3.7/dist-packages (from keras-tuner>=1.0.2->autokeras) (1.19.5)\n",
            "Requirement already satisfied: tabulate in /usr/local/lib/python3.7/dist-packages (from keras-tuner>=1.0.2->autokeras) (0.8.9)\n",
            "Collecting terminaltables\n",
            "  Downloading https://files.pythonhosted.org/packages/9b/c4/4a21174f32f8a7e1104798c445dacdc1d4df86f2f26722767034e4de4bff/terminaltables-3.1.0.tar.gz\n",
            "Collecting colorama\n",
            "  Downloading https://files.pythonhosted.org/packages/44/98/5b86278fbbf250d239ae0ecb724f8572af1c91f4a11edf4d36a206189440/colorama-0.4.4-py2.py3-none-any.whl\n",
            "Requirement already satisfied: tqdm in /usr/local/lib/python3.7/dist-packages (from keras-tuner>=1.0.2->autokeras) (4.41.1)\n",
            "Requirement already satisfied: requests in /usr/local/lib/python3.7/dist-packages (from keras-tuner>=1.0.2->autokeras) (2.23.0)\n",
            "Requirement already satisfied: scipy in /usr/local/lib/python3.7/dist-packages (from keras-tuner>=1.0.2->autokeras) (1.4.1)\n",
            "Requirement already satisfied: pyparsing>=2.0.2 in /usr/local/lib/python3.7/dist-packages (from packaging->autokeras) (2.4.7)\n",
            "Requirement already satisfied: pytz>=2017.2 in /usr/local/lib/python3.7/dist-packages (from pandas->autokeras) (2018.9)\n",
            "Requirement already satisfied: python-dateutil>=2.7.3 in /usr/local/lib/python3.7/dist-packages (from pandas->autokeras) (2.8.1)\n",
            "Requirement already satisfied: joblib>=0.11 in /usr/local/lib/python3.7/dist-packages (from scikit-learn->autokeras) (1.0.1)\n",
            "Requirement already satisfied: absl-py~=0.10 in /usr/local/lib/python3.7/dist-packages (from tensorflow>=2.3.0->autokeras) (0.12.0)\n",
            "Requirement already satisfied: six~=1.15.0 in /usr/local/lib/python3.7/dist-packages (from tensorflow>=2.3.0->autokeras) (1.15.0)\n",
            "Requirement already satisfied: protobuf>=3.9.2 in /usr/local/lib/python3.7/dist-packages (from tensorflow>=2.3.0->autokeras) (3.12.4)\n",
            "Requirement already satisfied: astunparse~=1.6.3 in /usr/local/lib/python3.7/dist-packages (from tensorflow>=2.3.0->autokeras) (1.6.3)\n",
            "Requirement already satisfied: tensorboard~=2.5 in /usr/local/lib/python3.7/dist-packages (from tensorflow>=2.3.0->autokeras) (2.5.0)\n",
            "Requirement already satisfied: keras-preprocessing~=1.1.2 in /usr/local/lib/python3.7/dist-packages (from tensorflow>=2.3.0->autokeras) (1.1.2)\n",
            "Requirement already satisfied: wheel~=0.35 in /usr/local/lib/python3.7/dist-packages (from tensorflow>=2.3.0->autokeras) (0.36.2)\n",
            "Requirement already satisfied: gast==0.4.0 in /usr/local/lib/python3.7/dist-packages (from tensorflow>=2.3.0->autokeras) (0.4.0)\n",
            "Requirement already satisfied: flatbuffers~=1.12.0 in /usr/local/lib/python3.7/dist-packages (from tensorflow>=2.3.0->autokeras) (1.12)\n",
            "Requirement already satisfied: wrapt~=1.12.1 in /usr/local/lib/python3.7/dist-packages (from tensorflow>=2.3.0->autokeras) (1.12.1)\n",
            "Requirement already satisfied: tensorflow-estimator<2.6.0,>=2.5.0rc0 in /usr/local/lib/python3.7/dist-packages (from tensorflow>=2.3.0->autokeras) (2.5.0)\n",
            "Requirement already satisfied: grpcio~=1.34.0 in /usr/local/lib/python3.7/dist-packages (from tensorflow>=2.3.0->autokeras) (1.34.1)\n",
            "Requirement already satisfied: opt-einsum~=3.3.0 in /usr/local/lib/python3.7/dist-packages (from tensorflow>=2.3.0->autokeras) (3.3.0)\n",
            "Requirement already satisfied: typing-extensions~=3.7.4 in /usr/local/lib/python3.7/dist-packages (from tensorflow>=2.3.0->autokeras) (3.7.4.3)\n",
            "Requirement already satisfied: termcolor~=1.1.0 in /usr/local/lib/python3.7/dist-packages (from tensorflow>=2.3.0->autokeras) (1.1.0)\n",
            "Requirement already satisfied: keras-nightly~=2.5.0.dev in /usr/local/lib/python3.7/dist-packages (from tensorflow>=2.3.0->autokeras) (2.5.0.dev2021032900)\n",
            "Requirement already satisfied: google-pasta~=0.2 in /usr/local/lib/python3.7/dist-packages (from tensorflow>=2.3.0->autokeras) (0.2.0)\n",
            "Requirement already satisfied: h5py~=3.1.0 in /usr/local/lib/python3.7/dist-packages (from tensorflow>=2.3.0->autokeras) (3.1.0)\n",
            "Requirement already satisfied: idna<3,>=2.5 in /usr/local/lib/python3.7/dist-packages (from requests->keras-tuner>=1.0.2->autokeras) (2.10)\n",
            "Requirement already satisfied: chardet<4,>=3.0.2 in /usr/local/lib/python3.7/dist-packages (from requests->keras-tuner>=1.0.2->autokeras) (3.0.4)\n",
            "Requirement already satisfied: urllib3!=1.25.0,!=1.25.1,<1.26,>=1.21.1 in /usr/local/lib/python3.7/dist-packages (from requests->keras-tuner>=1.0.2->autokeras) (1.24.3)\n",
            "Requirement already satisfied: certifi>=2017.4.17 in /usr/local/lib/python3.7/dist-packages (from requests->keras-tuner>=1.0.2->autokeras) (2020.12.5)\n",
            "Requirement already satisfied: setuptools in /usr/local/lib/python3.7/dist-packages (from protobuf>=3.9.2->tensorflow>=2.3.0->autokeras) (57.0.0)\n",
            "Requirement already satisfied: tensorboard-plugin-wit>=1.6.0 in /usr/local/lib/python3.7/dist-packages (from tensorboard~=2.5->tensorflow>=2.3.0->autokeras) (1.8.0)\n",
            "Requirement already satisfied: google-auth<2,>=1.6.3 in /usr/local/lib/python3.7/dist-packages (from tensorboard~=2.5->tensorflow>=2.3.0->autokeras) (1.30.0)\n",
            "Requirement already satisfied: google-auth-oauthlib<0.5,>=0.4.1 in /usr/local/lib/python3.7/dist-packages (from tensorboard~=2.5->tensorflow>=2.3.0->autokeras) (0.4.4)\n",
            "Requirement already satisfied: werkzeug>=0.11.15 in /usr/local/lib/python3.7/dist-packages (from tensorboard~=2.5->tensorflow>=2.3.0->autokeras) (1.0.1)\n",
            "Requirement already satisfied: markdown>=2.6.8 in /usr/local/lib/python3.7/dist-packages (from tensorboard~=2.5->tensorflow>=2.3.0->autokeras) (3.3.4)\n",
            "Requirement already satisfied: tensorboard-data-server<0.7.0,>=0.6.0 in /usr/local/lib/python3.7/dist-packages (from tensorboard~=2.5->tensorflow>=2.3.0->autokeras) (0.6.1)\n",
            "Requirement already satisfied: cached-property; python_version < \"3.8\" in /usr/local/lib/python3.7/dist-packages (from h5py~=3.1.0->tensorflow>=2.3.0->autokeras) (1.5.2)\n",
            "Requirement already satisfied: rsa<5,>=3.1.4; python_version >= \"3.6\" in /usr/local/lib/python3.7/dist-packages (from google-auth<2,>=1.6.3->tensorboard~=2.5->tensorflow>=2.3.0->autokeras) (4.7.2)\n",
            "Requirement already satisfied: cachetools<5.0,>=2.0.0 in /usr/local/lib/python3.7/dist-packages (from google-auth<2,>=1.6.3->tensorboard~=2.5->tensorflow>=2.3.0->autokeras) (4.2.2)\n",
            "Requirement already satisfied: pyasn1-modules>=0.2.1 in /usr/local/lib/python3.7/dist-packages (from google-auth<2,>=1.6.3->tensorboard~=2.5->tensorflow>=2.3.0->autokeras) (0.2.8)\n",
            "Requirement already satisfied: requests-oauthlib>=0.7.0 in /usr/local/lib/python3.7/dist-packages (from google-auth-oauthlib<0.5,>=0.4.1->tensorboard~=2.5->tensorflow>=2.3.0->autokeras) (1.3.0)\n",
            "Requirement already satisfied: importlib-metadata; python_version < \"3.8\" in /usr/local/lib/python3.7/dist-packages (from markdown>=2.6.8->tensorboard~=2.5->tensorflow>=2.3.0->autokeras) (4.0.1)\n",
            "Requirement already satisfied: pyasn1>=0.1.3 in /usr/local/lib/python3.7/dist-packages (from rsa<5,>=3.1.4; python_version >= \"3.6\"->google-auth<2,>=1.6.3->tensorboard~=2.5->tensorflow>=2.3.0->autokeras) (0.4.8)\n",
            "Requirement already satisfied: oauthlib>=3.0.0 in /usr/local/lib/python3.7/dist-packages (from requests-oauthlib>=0.7.0->google-auth-oauthlib<0.5,>=0.4.1->tensorboard~=2.5->tensorflow>=2.3.0->autokeras) (3.1.0)\n",
            "Requirement already satisfied: zipp>=0.5 in /usr/local/lib/python3.7/dist-packages (from importlib-metadata; python_version < \"3.8\"->markdown>=2.6.8->tensorboard~=2.5->tensorflow>=2.3.0->autokeras) (3.4.1)\n",
            "Building wheels for collected packages: keras-tuner, terminaltables\n",
            "  Building wheel for keras-tuner (setup.py) ... \u001b[?25l\u001b[?25hdone\n",
            "  Created wheel for keras-tuner: filename=keras_tuner-1.0.2-cp37-none-any.whl size=78935 sha256=ac0840474f3abe7f24d1fa7d2fd1e9a1ce3da20cf371a0955bbfb1a5c7c857f3\n",
            "  Stored in directory: /root/.cache/pip/wheels/bb/a1/8a/7c3de0efb3707a1701b36ebbfdbc4e67aedf6d4943a1f463d6\n",
            "  Building wheel for terminaltables (setup.py) ... \u001b[?25l\u001b[?25hdone\n",
            "  Created wheel for terminaltables: filename=terminaltables-3.1.0-cp37-none-any.whl size=15356 sha256=82767ddf7ff911540cacf3eeb73bddbfc3fc68fb84cfe53ab36f2b5cfad9d94c\n",
            "  Stored in directory: /root/.cache/pip/wheels/30/6b/50/6c75775b681fb36cdfac7f19799888ef9d8813aff9e379663e\n",
            "Successfully built keras-tuner terminaltables\n",
            "Installing collected packages: terminaltables, colorama, keras-tuner, autokeras\n",
            "Successfully installed autokeras-1.0.14 colorama-0.4.4 keras-tuner-1.0.2 terminaltables-3.1.0\n"
          ],
          "name": "stdout"
        }
      ]
    },
    {
      "cell_type": "code",
      "metadata": {
        "id": "Cb-tTTAie8am"
      },
      "source": [
        "import autokeras as ak\n",
        "import pandas as pd\n",
        "import numpy as np\n",
        "from tqdm import tqdm\n",
        "import json\n",
        "from ast import literal_eval\n",
        "import matplotlib.pyplot as plt\n",
        "import seaborn as sns\n",
        "from sklearn.preprocessing import StandardScaler, MinMaxScaler"
      ],
      "execution_count": null,
      "outputs": []
    },
    {
      "cell_type": "code",
      "metadata": {
        "colab": {
          "base_uri": "https://localhost:8080/"
        },
        "id": "mLZmsTR9fMoG",
        "outputId": "cd1ab956-3cba-47bd-ecfc-2a2b0e83bcf4"
      },
      "source": [
        "from google.colab import drive\n",
        "drive.mount('/content/gdrive')"
      ],
      "execution_count": null,
      "outputs": [
        {
          "output_type": "stream",
          "text": [
            "Mounted at /content/gdrive\n"
          ],
          "name": "stdout"
        }
      ]
    },
    {
      "cell_type": "code",
      "metadata": {
        "colab": {
          "base_uri": "https://localhost:8080/"
        },
        "id": "IbRkfrxAhU9B",
        "outputId": "6cf5d46d-119c-494c-c785-83df79621662"
      },
      "source": [
        "book_data = pd.read_csv('/content/gdrive/My Drive/movies_metadata.csv')\n",
        "credits = pd.read_csv('/content/gdrive/My Drive/credits.csv')"
      ],
      "execution_count": null,
      "outputs": [
        {
          "output_type": "stream",
          "text": [
            "/usr/local/lib/python3.7/dist-packages/IPython/core/interactiveshell.py:2718: DtypeWarning: Columns (10) have mixed types.Specify dtype option on import or set low_memory=False.\n",
            "  interactivity=interactivity, compiler=compiler, result=result)\n"
          ],
          "name": "stderr"
        }
      ]
    },
    {
      "cell_type": "code",
      "metadata": {
        "colab": {
          "base_uri": "https://localhost:8080/",
          "height": 660
        },
        "id": "F_g6z5e9mT4K",
        "outputId": "2074dc06-a01d-4c2b-c946-a0b9540cb625"
      },
      "source": [
        "book_data.head()"
      ],
      "execution_count": null,
      "outputs": [
        {
          "output_type": "execute_result",
          "data": {
            "text/html": [
              "<div>\n",
              "<style scoped>\n",
              "    .dataframe tbody tr th:only-of-type {\n",
              "        vertical-align: middle;\n",
              "    }\n",
              "\n",
              "    .dataframe tbody tr th {\n",
              "        vertical-align: top;\n",
              "    }\n",
              "\n",
              "    .dataframe thead th {\n",
              "        text-align: right;\n",
              "    }\n",
              "</style>\n",
              "<table border=\"1\" class=\"dataframe\">\n",
              "  <thead>\n",
              "    <tr style=\"text-align: right;\">\n",
              "      <th></th>\n",
              "      <th>adult</th>\n",
              "      <th>belongs_to_collection</th>\n",
              "      <th>budget</th>\n",
              "      <th>genres</th>\n",
              "      <th>homepage</th>\n",
              "      <th>id</th>\n",
              "      <th>imdb_id</th>\n",
              "      <th>original_language</th>\n",
              "      <th>original_title</th>\n",
              "      <th>overview</th>\n",
              "      <th>popularity</th>\n",
              "      <th>poster_path</th>\n",
              "      <th>production_companies</th>\n",
              "      <th>production_countries</th>\n",
              "      <th>release_date</th>\n",
              "      <th>revenue</th>\n",
              "      <th>runtime</th>\n",
              "      <th>spoken_languages</th>\n",
              "      <th>status</th>\n",
              "      <th>tagline</th>\n",
              "      <th>title</th>\n",
              "      <th>video</th>\n",
              "      <th>vote_average</th>\n",
              "      <th>vote_count</th>\n",
              "    </tr>\n",
              "  </thead>\n",
              "  <tbody>\n",
              "    <tr>\n",
              "      <th>0</th>\n",
              "      <td>False</td>\n",
              "      <td>{'id': 10194, 'name': 'Toy Story Collection', ...</td>\n",
              "      <td>30000000</td>\n",
              "      <td>[{'id': 16, 'name': 'Animation'}, {'id': 35, '...</td>\n",
              "      <td>http://toystory.disney.com/toy-story</td>\n",
              "      <td>862</td>\n",
              "      <td>tt0114709</td>\n",
              "      <td>en</td>\n",
              "      <td>Toy Story</td>\n",
              "      <td>Led by Woody, Andy's toys live happily in his ...</td>\n",
              "      <td>21.9469</td>\n",
              "      <td>/rhIRbceoE9lR4veEXuwCC2wARtG.jpg</td>\n",
              "      <td>[{'name': 'Pixar Animation Studios', 'id': 3}]</td>\n",
              "      <td>[{'iso_3166_1': 'US', 'name': 'United States o...</td>\n",
              "      <td>1995-10-30</td>\n",
              "      <td>373554033.0</td>\n",
              "      <td>81.0</td>\n",
              "      <td>[{'iso_639_1': 'en', 'name': 'English'}]</td>\n",
              "      <td>Released</td>\n",
              "      <td>NaN</td>\n",
              "      <td>Toy Story</td>\n",
              "      <td>False</td>\n",
              "      <td>7.7</td>\n",
              "      <td>5415.0</td>\n",
              "    </tr>\n",
              "    <tr>\n",
              "      <th>1</th>\n",
              "      <td>False</td>\n",
              "      <td>NaN</td>\n",
              "      <td>65000000</td>\n",
              "      <td>[{'id': 12, 'name': 'Adventure'}, {'id': 14, '...</td>\n",
              "      <td>NaN</td>\n",
              "      <td>8844</td>\n",
              "      <td>tt0113497</td>\n",
              "      <td>en</td>\n",
              "      <td>Jumanji</td>\n",
              "      <td>When siblings Judy and Peter discover an encha...</td>\n",
              "      <td>17.0155</td>\n",
              "      <td>/vzmL6fP7aPKNKPRTFnZmiUfciyV.jpg</td>\n",
              "      <td>[{'name': 'TriStar Pictures', 'id': 559}, {'na...</td>\n",
              "      <td>[{'iso_3166_1': 'US', 'name': 'United States o...</td>\n",
              "      <td>1995-12-15</td>\n",
              "      <td>262797249.0</td>\n",
              "      <td>104.0</td>\n",
              "      <td>[{'iso_639_1': 'en', 'name': 'English'}, {'iso...</td>\n",
              "      <td>Released</td>\n",
              "      <td>Roll the dice and unleash the excitement!</td>\n",
              "      <td>Jumanji</td>\n",
              "      <td>False</td>\n",
              "      <td>6.9</td>\n",
              "      <td>2413.0</td>\n",
              "    </tr>\n",
              "    <tr>\n",
              "      <th>2</th>\n",
              "      <td>False</td>\n",
              "      <td>{'id': 119050, 'name': 'Grumpy Old Men Collect...</td>\n",
              "      <td>0</td>\n",
              "      <td>[{'id': 10749, 'name': 'Romance'}, {'id': 35, ...</td>\n",
              "      <td>NaN</td>\n",
              "      <td>15602</td>\n",
              "      <td>tt0113228</td>\n",
              "      <td>en</td>\n",
              "      <td>Grumpier Old Men</td>\n",
              "      <td>A family wedding reignites the ancient feud be...</td>\n",
              "      <td>11.7129</td>\n",
              "      <td>/6ksm1sjKMFLbO7UY2i6G1ju9SML.jpg</td>\n",
              "      <td>[{'name': 'Warner Bros.', 'id': 6194}, {'name'...</td>\n",
              "      <td>[{'iso_3166_1': 'US', 'name': 'United States o...</td>\n",
              "      <td>1995-12-22</td>\n",
              "      <td>0.0</td>\n",
              "      <td>101.0</td>\n",
              "      <td>[{'iso_639_1': 'en', 'name': 'English'}]</td>\n",
              "      <td>Released</td>\n",
              "      <td>Still Yelling. Still Fighting. Still Ready for...</td>\n",
              "      <td>Grumpier Old Men</td>\n",
              "      <td>False</td>\n",
              "      <td>6.5</td>\n",
              "      <td>92.0</td>\n",
              "    </tr>\n",
              "    <tr>\n",
              "      <th>3</th>\n",
              "      <td>False</td>\n",
              "      <td>NaN</td>\n",
              "      <td>16000000</td>\n",
              "      <td>[{'id': 35, 'name': 'Comedy'}, {'id': 18, 'nam...</td>\n",
              "      <td>NaN</td>\n",
              "      <td>31357</td>\n",
              "      <td>tt0114885</td>\n",
              "      <td>en</td>\n",
              "      <td>Waiting to Exhale</td>\n",
              "      <td>Cheated on, mistreated and stepped on, the wom...</td>\n",
              "      <td>3.85949</td>\n",
              "      <td>/16XOMpEaLWkrcPqSQqhTmeJuqQl.jpg</td>\n",
              "      <td>[{'name': 'Twentieth Century Fox Film Corporat...</td>\n",
              "      <td>[{'iso_3166_1': 'US', 'name': 'United States o...</td>\n",
              "      <td>1995-12-22</td>\n",
              "      <td>81452156.0</td>\n",
              "      <td>127.0</td>\n",
              "      <td>[{'iso_639_1': 'en', 'name': 'English'}]</td>\n",
              "      <td>Released</td>\n",
              "      <td>Friends are the people who let you be yourself...</td>\n",
              "      <td>Waiting to Exhale</td>\n",
              "      <td>False</td>\n",
              "      <td>6.1</td>\n",
              "      <td>34.0</td>\n",
              "    </tr>\n",
              "    <tr>\n",
              "      <th>4</th>\n",
              "      <td>False</td>\n",
              "      <td>{'id': 96871, 'name': 'Father of the Bride Col...</td>\n",
              "      <td>0</td>\n",
              "      <td>[{'id': 35, 'name': 'Comedy'}]</td>\n",
              "      <td>NaN</td>\n",
              "      <td>11862</td>\n",
              "      <td>tt0113041</td>\n",
              "      <td>en</td>\n",
              "      <td>Father of the Bride Part II</td>\n",
              "      <td>Just when George Banks has recovered from his ...</td>\n",
              "      <td>8.38752</td>\n",
              "      <td>/e64sOI48hQXyru7naBFyssKFxVd.jpg</td>\n",
              "      <td>[{'name': 'Sandollar Productions', 'id': 5842}...</td>\n",
              "      <td>[{'iso_3166_1': 'US', 'name': 'United States o...</td>\n",
              "      <td>1995-02-10</td>\n",
              "      <td>76578911.0</td>\n",
              "      <td>106.0</td>\n",
              "      <td>[{'iso_639_1': 'en', 'name': 'English'}]</td>\n",
              "      <td>Released</td>\n",
              "      <td>Just When His World Is Back To Normal... He's ...</td>\n",
              "      <td>Father of the Bride Part II</td>\n",
              "      <td>False</td>\n",
              "      <td>5.7</td>\n",
              "      <td>173.0</td>\n",
              "    </tr>\n",
              "  </tbody>\n",
              "</table>\n",
              "</div>"
            ],
            "text/plain": [
              "   adult  ... vote_count\n",
              "0  False  ...     5415.0\n",
              "1  False  ...     2413.0\n",
              "2  False  ...       92.0\n",
              "3  False  ...       34.0\n",
              "4  False  ...      173.0\n",
              "\n",
              "[5 rows x 24 columns]"
            ]
          },
          "metadata": {
            "tags": []
          },
          "execution_count": 8
        }
      ]
    },
    {
      "cell_type": "code",
      "metadata": {
        "colab": {
          "base_uri": "https://localhost:8080/",
          "height": 304
        },
        "id": "ZWRTPxEalvM7",
        "outputId": "1614c425-1e87-403f-e67a-946b606fb3a3"
      },
      "source": [
        "book_data[['budget', 'genres', 'id', 'imdb_id', 'title', 'overview', 'popularity', 'release_date', 'revenue', 'runtime', 'status']].head()"
      ],
      "execution_count": null,
      "outputs": [
        {
          "output_type": "execute_result",
          "data": {
            "text/html": [
              "<div>\n",
              "<style scoped>\n",
              "    .dataframe tbody tr th:only-of-type {\n",
              "        vertical-align: middle;\n",
              "    }\n",
              "\n",
              "    .dataframe tbody tr th {\n",
              "        vertical-align: top;\n",
              "    }\n",
              "\n",
              "    .dataframe thead th {\n",
              "        text-align: right;\n",
              "    }\n",
              "</style>\n",
              "<table border=\"1\" class=\"dataframe\">\n",
              "  <thead>\n",
              "    <tr style=\"text-align: right;\">\n",
              "      <th></th>\n",
              "      <th>budget</th>\n",
              "      <th>genres</th>\n",
              "      <th>id</th>\n",
              "      <th>imdb_id</th>\n",
              "      <th>title</th>\n",
              "      <th>overview</th>\n",
              "      <th>popularity</th>\n",
              "      <th>release_date</th>\n",
              "      <th>revenue</th>\n",
              "      <th>runtime</th>\n",
              "      <th>status</th>\n",
              "    </tr>\n",
              "  </thead>\n",
              "  <tbody>\n",
              "    <tr>\n",
              "      <th>0</th>\n",
              "      <td>30000000</td>\n",
              "      <td>[{'id': 16, 'name': 'Animation'}, {'id': 35, '...</td>\n",
              "      <td>862</td>\n",
              "      <td>tt0114709</td>\n",
              "      <td>Toy Story</td>\n",
              "      <td>Led by Woody, Andy's toys live happily in his ...</td>\n",
              "      <td>21.9469</td>\n",
              "      <td>1995-10-30</td>\n",
              "      <td>373554033.0</td>\n",
              "      <td>81.0</td>\n",
              "      <td>Released</td>\n",
              "    </tr>\n",
              "    <tr>\n",
              "      <th>1</th>\n",
              "      <td>65000000</td>\n",
              "      <td>[{'id': 12, 'name': 'Adventure'}, {'id': 14, '...</td>\n",
              "      <td>8844</td>\n",
              "      <td>tt0113497</td>\n",
              "      <td>Jumanji</td>\n",
              "      <td>When siblings Judy and Peter discover an encha...</td>\n",
              "      <td>17.0155</td>\n",
              "      <td>1995-12-15</td>\n",
              "      <td>262797249.0</td>\n",
              "      <td>104.0</td>\n",
              "      <td>Released</td>\n",
              "    </tr>\n",
              "    <tr>\n",
              "      <th>2</th>\n",
              "      <td>0</td>\n",
              "      <td>[{'id': 10749, 'name': 'Romance'}, {'id': 35, ...</td>\n",
              "      <td>15602</td>\n",
              "      <td>tt0113228</td>\n",
              "      <td>Grumpier Old Men</td>\n",
              "      <td>A family wedding reignites the ancient feud be...</td>\n",
              "      <td>11.7129</td>\n",
              "      <td>1995-12-22</td>\n",
              "      <td>0.0</td>\n",
              "      <td>101.0</td>\n",
              "      <td>Released</td>\n",
              "    </tr>\n",
              "    <tr>\n",
              "      <th>3</th>\n",
              "      <td>16000000</td>\n",
              "      <td>[{'id': 35, 'name': 'Comedy'}, {'id': 18, 'nam...</td>\n",
              "      <td>31357</td>\n",
              "      <td>tt0114885</td>\n",
              "      <td>Waiting to Exhale</td>\n",
              "      <td>Cheated on, mistreated and stepped on, the wom...</td>\n",
              "      <td>3.85949</td>\n",
              "      <td>1995-12-22</td>\n",
              "      <td>81452156.0</td>\n",
              "      <td>127.0</td>\n",
              "      <td>Released</td>\n",
              "    </tr>\n",
              "    <tr>\n",
              "      <th>4</th>\n",
              "      <td>0</td>\n",
              "      <td>[{'id': 35, 'name': 'Comedy'}]</td>\n",
              "      <td>11862</td>\n",
              "      <td>tt0113041</td>\n",
              "      <td>Father of the Bride Part II</td>\n",
              "      <td>Just when George Banks has recovered from his ...</td>\n",
              "      <td>8.38752</td>\n",
              "      <td>1995-02-10</td>\n",
              "      <td>76578911.0</td>\n",
              "      <td>106.0</td>\n",
              "      <td>Released</td>\n",
              "    </tr>\n",
              "  </tbody>\n",
              "</table>\n",
              "</div>"
            ],
            "text/plain": [
              "     budget  ...    status\n",
              "0  30000000  ...  Released\n",
              "1  65000000  ...  Released\n",
              "2         0  ...  Released\n",
              "3  16000000  ...  Released\n",
              "4         0  ...  Released\n",
              "\n",
              "[5 rows x 11 columns]"
            ]
          },
          "metadata": {
            "tags": []
          },
          "execution_count": 9
        }
      ]
    },
    {
      "cell_type": "code",
      "metadata": {
        "colab": {
          "base_uri": "https://localhost:8080/",
          "height": 203
        },
        "id": "5DDmRaN2qcXb",
        "outputId": "ae997e78-4c35-4fa9-c762-172e1f985d20"
      },
      "source": [
        "book_data.drop_duplicates('id', inplace=True)\n",
        "book_data['id'] = pd.to_numeric(book_data['id'], errors='coerce', downcast='float')\n",
        "book_data['popularity'] = pd.to_numeric(book_data['popularity'], errors='coerce', downcast='float')\n",
        "book_data = pd.merge(book_data, credits, on='id', how='inner')\n",
        "book_data['id'] = pd.to_numeric(book_data['id'], downcast='integer')\n",
        "book_data = book_data.loc[book_data['status'] == 'Released']\n",
        "titles = book_data[['title', 'id']]\n",
        "book_data.drop(labels=['belongs_to_collection', 'imdb_id', 'homepage', 'overview', \n",
        "                       'poster_path', 'status', 'tagline', 'original_title', \n",
        "                       'spoken_languages', 'original_language', 'adult', \n",
        "                       'production_countries', 'production_companies', 'video', \n",
        "                       'cast', 'revenue', 'budget', 'title', 'crew'], axis=1, inplace=True)\n",
        "book_data['release_date'] = pd.to_datetime(book_data['release_date'])\n",
        "book_data['release_date'] = pd.DatetimeIndex(book_data.release_date).year\n",
        "book_data.head()"
      ],
      "execution_count": null,
      "outputs": [
        {
          "output_type": "execute_result",
          "data": {
            "text/html": [
              "<div>\n",
              "<style scoped>\n",
              "    .dataframe tbody tr th:only-of-type {\n",
              "        vertical-align: middle;\n",
              "    }\n",
              "\n",
              "    .dataframe tbody tr th {\n",
              "        vertical-align: top;\n",
              "    }\n",
              "\n",
              "    .dataframe thead th {\n",
              "        text-align: right;\n",
              "    }\n",
              "</style>\n",
              "<table border=\"1\" class=\"dataframe\">\n",
              "  <thead>\n",
              "    <tr style=\"text-align: right;\">\n",
              "      <th></th>\n",
              "      <th>genres</th>\n",
              "      <th>id</th>\n",
              "      <th>popularity</th>\n",
              "      <th>release_date</th>\n",
              "      <th>runtime</th>\n",
              "      <th>vote_average</th>\n",
              "      <th>vote_count</th>\n",
              "    </tr>\n",
              "  </thead>\n",
              "  <tbody>\n",
              "    <tr>\n",
              "      <th>0</th>\n",
              "      <td>[{'id': 16, 'name': 'Animation'}, {'id': 35, '...</td>\n",
              "      <td>862</td>\n",
              "      <td>21.946943</td>\n",
              "      <td>1995.0</td>\n",
              "      <td>81.0</td>\n",
              "      <td>7.7</td>\n",
              "      <td>5415.0</td>\n",
              "    </tr>\n",
              "    <tr>\n",
              "      <th>1</th>\n",
              "      <td>[{'id': 12, 'name': 'Adventure'}, {'id': 14, '...</td>\n",
              "      <td>8844</td>\n",
              "      <td>17.015539</td>\n",
              "      <td>1995.0</td>\n",
              "      <td>104.0</td>\n",
              "      <td>6.9</td>\n",
              "      <td>2413.0</td>\n",
              "    </tr>\n",
              "    <tr>\n",
              "      <th>2</th>\n",
              "      <td>[{'id': 10749, 'name': 'Romance'}, {'id': 35, ...</td>\n",
              "      <td>15602</td>\n",
              "      <td>11.712900</td>\n",
              "      <td>1995.0</td>\n",
              "      <td>101.0</td>\n",
              "      <td>6.5</td>\n",
              "      <td>92.0</td>\n",
              "    </tr>\n",
              "    <tr>\n",
              "      <th>3</th>\n",
              "      <td>[{'id': 35, 'name': 'Comedy'}, {'id': 18, 'nam...</td>\n",
              "      <td>31357</td>\n",
              "      <td>3.859495</td>\n",
              "      <td>1995.0</td>\n",
              "      <td>127.0</td>\n",
              "      <td>6.1</td>\n",
              "      <td>34.0</td>\n",
              "    </tr>\n",
              "    <tr>\n",
              "      <th>4</th>\n",
              "      <td>[{'id': 35, 'name': 'Comedy'}]</td>\n",
              "      <td>11862</td>\n",
              "      <td>8.387519</td>\n",
              "      <td>1995.0</td>\n",
              "      <td>106.0</td>\n",
              "      <td>5.7</td>\n",
              "      <td>173.0</td>\n",
              "    </tr>\n",
              "  </tbody>\n",
              "</table>\n",
              "</div>"
            ],
            "text/plain": [
              "                                              genres  ...  vote_count\n",
              "0  [{'id': 16, 'name': 'Animation'}, {'id': 35, '...  ...      5415.0\n",
              "1  [{'id': 12, 'name': 'Adventure'}, {'id': 14, '...  ...      2413.0\n",
              "2  [{'id': 10749, 'name': 'Romance'}, {'id': 35, ...  ...        92.0\n",
              "3  [{'id': 35, 'name': 'Comedy'}, {'id': 18, 'nam...  ...        34.0\n",
              "4                     [{'id': 35, 'name': 'Comedy'}]  ...       173.0\n",
              "\n",
              "[5 rows x 7 columns]"
            ]
          },
          "metadata": {
            "tags": []
          },
          "execution_count": 10
        }
      ]
    },
    {
      "cell_type": "code",
      "metadata": {
        "id": "nZmCJ6lOBiAB"
      },
      "source": [
        "m = book_data['vote_count'].quantile(0.1)\n",
        "c = book_data.vote_average.mean()"
      ],
      "execution_count": null,
      "outputs": []
    },
    {
      "cell_type": "code",
      "metadata": {
        "id": "7f5Z-dBhFSo2"
      },
      "source": [
        "def weighted_rating(x, m=m, C=c):\n",
        "    v = x['vote_count']\n",
        "    R = x['vote_average']\n",
        "    return (v / (v + m) * R) + (m / (m + v) * C)"
      ],
      "execution_count": null,
      "outputs": []
    },
    {
      "cell_type": "code",
      "metadata": {
        "id": "wvfKyNF7FaJ1"
      },
      "source": [
        "book_data['score'] = book_data.apply(weighted_rating, axis=1)\n",
        "book_data.drop(labels=['vote_average', 'vote_count'], axis=1, inplace=True)"
      ],
      "execution_count": null,
      "outputs": []
    },
    {
      "cell_type": "code",
      "metadata": {
        "colab": {
          "base_uri": "https://localhost:8080/",
          "height": 743
        },
        "id": "XzMFsslf9eJq",
        "outputId": "c21e9d6d-0b17-4584-8453-7e9c5533ba00"
      },
      "source": [
        "sns.pairplot(book_data[['popularity', 'release_date', 'runtime', 'score']])"
      ],
      "execution_count": null,
      "outputs": [
        {
          "output_type": "execute_result",
          "data": {
            "text/plain": [
              "<seaborn.axisgrid.PairGrid at 0x7f767b1627d0>"
            ]
          },
          "metadata": {
            "tags": []
          },
          "execution_count": 14
        },
        {
          "output_type": "display_data",
          "data": {
            "image/png": "[encoded data removed]",
            "text/plain": [
              "<Figure size 720x720 with 20 Axes>"
            ]
          },
          "metadata": {
            "tags": [],
            "needs_background": "light"
          }
        }
      ]
    },
    {
      "cell_type": "code",
      "metadata": {
        "id": "YZ5R62ipvcvu"
      },
      "source": [
        "features = ['genres']\n",
        "categorical_data = book_data[features + ['id']]\n",
        "categorical_data.set_index('id', inplace=True)\n",
        "book_data.set_index('id', inplace=True)\n",
        "book_data.drop(labels=features, axis=1, inplace=True)"
      ],
      "execution_count": null,
      "outputs": []
    },
    {
      "cell_type": "code",
      "metadata": {
        "colab": {
          "base_uri": "https://localhost:8080/"
        },
        "id": "VY3E4wdw0fZU",
        "outputId": "49b53abe-4a39-4e77-ed6c-d7c4961d96d6"
      },
      "source": [
        "for feature in tqdm(features):\n",
        "  categorical_data[feature] = categorical_data[feature].apply(literal_eval)"
      ],
      "execution_count": null,
      "outputs": [
        {
          "output_type": "stream",
          "text": [
            "  0%|          | 0/1 [00:00<?, ?it/s]/usr/local/lib/python3.7/dist-packages/ipykernel_launcher.py:2: SettingWithCopyWarning: \n",
            "A value is trying to be set on a copy of a slice from a DataFrame.\n",
            "Try using .loc[row_indexer,col_indexer] = value instead\n",
            "\n",
            "See the caveats in the documentation: https://pandas.pydata.org/pandas-docs/stable/user_guide/indexing.html#returning-a-view-versus-a-copy\n",
            "  \n",
            "100%|██████████| 1/1 [00:01<00:00,  1.31s/it]\n"
          ],
          "name": "stderr"
        }
      ]
    },
    {
      "cell_type": "code",
      "metadata": {
        "id": "J1mIfO0_OeyR"
      },
      "source": [
        "def get_director(x):\n",
        "  for item in x:\n",
        "    if item['job'] == 'Director':\n",
        "      return item['name']\n",
        "  return None"
      ],
      "execution_count": null,
      "outputs": []
    },
    {
      "cell_type": "code",
      "metadata": {
        "id": "pb18sRnyQPfJ"
      },
      "source": [
        "def get_list(x, n=-1):\n",
        "  if isinstance(x, list):\n",
        "    names = [i['name'] for i in x]\n",
        "    if n != -1:\n",
        "      names = names[:n]\n",
        "    if len(names) > 0:\n",
        "      return names\n",
        "  return None"
      ],
      "execution_count": null,
      "outputs": []
    },
    {
      "cell_type": "code",
      "metadata": {
        "id": "Nd_pl67PRBv_",
        "colab": {
          "base_uri": "https://localhost:8080/"
        },
        "outputId": "1dd19f7d-f8a0-41fb-809f-c31f0234024c"
      },
      "source": [
        "#categorical_data['director'] = categorical_data['crew'].apply(lambda x: get_director(x))\n",
        "categorical_data['genres'] = categorical_data['genres'].apply(lambda x: get_list(x))\n",
        "#categorical_data['cast'] = categorical_data['cast'].apply(lambda x: get_list(x, 3))"
      ],
      "execution_count": null,
      "outputs": [
        {
          "output_type": "stream",
          "text": [
            "/usr/local/lib/python3.7/dist-packages/ipykernel_launcher.py:2: SettingWithCopyWarning: \n",
            "A value is trying to be set on a copy of a slice from a DataFrame.\n",
            "Try using .loc[row_indexer,col_indexer] = value instead\n",
            "\n",
            "See the caveats in the documentation: https://pandas.pydata.org/pandas-docs/stable/user_guide/indexing.html#returning-a-view-versus-a-copy\n",
            "  \n"
          ],
          "name": "stderr"
        }
      ]
    },
    {
      "cell_type": "code",
      "metadata": {
        "id": "9pg0073vSV08"
      },
      "source": [
        "categorical_data = pd.concat([categorical_data, categorical_data['genres'].str.join(sep='|').str.get_dummies(sep='|')], axis=1)\n",
        "#categorical_data = pd.concat([categorical_data, categorical_data['cast'].str.join(sep='|').str.get_dummies(sep='|')], axis=1)\n",
        "#categorical_data = pd.get_dummies(categorical_data, columns=['director'])"
      ],
      "execution_count": null,
      "outputs": []
    },
    {
      "cell_type": "code",
      "metadata": {
        "id": "9O6sCACP_tv6"
      },
      "source": [
        "categorical_data.dropna(inplace=True)\n",
        "categorical_data.drop(labels='genres', axis=1, inplace=True)"
      ],
      "execution_count": null,
      "outputs": []
    },
    {
      "cell_type": "code",
      "metadata": {
        "id": "jPtG78qvDawW"
      },
      "source": [
        "book_data.drop(labels=['score', 'popularity'], axis=1, inplace=True)\n",
        "book_data.dropna(inplace=True)"
      ],
      "execution_count": null,
      "outputs": []
    },
    {
      "cell_type": "code",
      "metadata": {
        "colab": {
          "base_uri": "https://localhost:8080/"
        },
        "id": "OpCEWQ-_i1Pf",
        "outputId": "5663523f-c952-4f28-ff1f-015c61dc1d73"
      },
      "source": [
        "book_data.info()"
      ],
      "execution_count": null,
      "outputs": [
        {
          "output_type": "stream",
          "text": [
            "<class 'pandas.core.frame.DataFrame'>\n",
            "Int64Index: 44709 entries, 862 to 461257\n",
            "Data columns (total 2 columns):\n",
            " #   Column        Non-Null Count  Dtype  \n",
            "---  ------        --------------  -----  \n",
            " 0   release_date  44709 non-null  float64\n",
            " 1   runtime       44709 non-null  float64\n",
            "dtypes: float64(2)\n",
            "memory usage: 1.0 MB\n"
          ],
          "name": "stdout"
        }
      ]
    },
    {
      "cell_type": "code",
      "metadata": {
        "id": "I2oXcyNujWNX"
      },
      "source": [
        "scaler = MinMaxScaler()\n",
        "scaled_data = scaler.fit_transform(book_data)\n",
        "scaled_df = pd.DataFrame(scaled_data, columns=['release_year', 'runtime'], index=book_data.index)"
      ],
      "execution_count": null,
      "outputs": []
    },
    {
      "cell_type": "code",
      "metadata": {
        "colab": {
          "base_uri": "https://localhost:8080/"
        },
        "id": "Mj0ahhkcC44F",
        "outputId": "f4cef2d5-4fe7-48fb-f018-e0ea3930433f"
      },
      "source": [
        "scaled_df.info()"
      ],
      "execution_count": null,
      "outputs": [
        {
          "output_type": "stream",
          "text": [
            "<class 'pandas.core.frame.DataFrame'>\n",
            "Int64Index: 44709 entries, 862 to 461257\n",
            "Data columns (total 2 columns):\n",
            " #   Column        Non-Null Count  Dtype  \n",
            "---  ------        --------------  -----  \n",
            " 0   release_year  44709 non-null  float64\n",
            " 1   runtime       44709 non-null  float64\n",
            "dtypes: float64(2)\n",
            "memory usage: 1.0 MB\n"
          ],
          "name": "stdout"
        }
      ]
    },
    {
      "cell_type": "code",
      "metadata": {
        "id": "JJHp8orwBhH_"
      },
      "source": [
        "book_data = pd.merge(scaled_df, categorical_data, on='id')"
      ],
      "execution_count": null,
      "outputs": []
    },
    {
      "cell_type": "code",
      "metadata": {
        "id": "_e_OkpPfsJVH",
        "colab": {
          "base_uri": "https://localhost:8080/",
          "height": 203
        },
        "outputId": "3fb103fe-2fa4-49d2-f13d-ec3602dd7bb8"
      },
      "source": [
        "ratings = pd.read_csv('/content/gdrive/My Drive/ratings.csv')\n",
        "ratings.head()"
      ],
      "execution_count": null,
      "outputs": [
        {
          "output_type": "execute_result",
          "data": {
            "text/html": [
              "<div>\n",
              "<style scoped>\n",
              "    .dataframe tbody tr th:only-of-type {\n",
              "        vertical-align: middle;\n",
              "    }\n",
              "\n",
              "    .dataframe tbody tr th {\n",
              "        vertical-align: top;\n",
              "    }\n",
              "\n",
              "    .dataframe thead th {\n",
              "        text-align: right;\n",
              "    }\n",
              "</style>\n",
              "<table border=\"1\" class=\"dataframe\">\n",
              "  <thead>\n",
              "    <tr style=\"text-align: right;\">\n",
              "      <th></th>\n",
              "      <th>userId</th>\n",
              "      <th>movieId</th>\n",
              "      <th>rating</th>\n",
              "      <th>timestamp</th>\n",
              "    </tr>\n",
              "  </thead>\n",
              "  <tbody>\n",
              "    <tr>\n",
              "      <th>0</th>\n",
              "      <td>1</td>\n",
              "      <td>110</td>\n",
              "      <td>1.0</td>\n",
              "      <td>1425941529</td>\n",
              "    </tr>\n",
              "    <tr>\n",
              "      <th>1</th>\n",
              "      <td>1</td>\n",
              "      <td>147</td>\n",
              "      <td>4.5</td>\n",
              "      <td>1425942435</td>\n",
              "    </tr>\n",
              "    <tr>\n",
              "      <th>2</th>\n",
              "      <td>1</td>\n",
              "      <td>858</td>\n",
              "      <td>5.0</td>\n",
              "      <td>1425941523</td>\n",
              "    </tr>\n",
              "    <tr>\n",
              "      <th>3</th>\n",
              "      <td>1</td>\n",
              "      <td>1221</td>\n",
              "      <td>5.0</td>\n",
              "      <td>1425941546</td>\n",
              "    </tr>\n",
              "    <tr>\n",
              "      <th>4</th>\n",
              "      <td>1</td>\n",
              "      <td>1246</td>\n",
              "      <td>5.0</td>\n",
              "      <td>1425941556</td>\n",
              "    </tr>\n",
              "  </tbody>\n",
              "</table>\n",
              "</div>"
            ],
            "text/plain": [
              "   userId  movieId  rating   timestamp\n",
              "0       1      110     1.0  1425941529\n",
              "1       1      147     4.5  1425942435\n",
              "2       1      858     5.0  1425941523\n",
              "3       1     1221     5.0  1425941546\n",
              "4       1     1246     5.0  1425941556"
            ]
          },
          "metadata": {
            "tags": []
          },
          "execution_count": 27
        }
      ]
    },
    {
      "cell_type": "code",
      "metadata": {
        "id": "cjE_n_W4EGTo"
      },
      "source": [
        "ratings['take_flg'] = ratings['movieId'].apply(lambda x: x in book_data.index)\n",
        "ratings = ratings.loc[ratings['take_flg'] == True]\n",
        "ratings.drop(labels=['timestamp', 'take_flg'], axis=1, inplace=True)"
      ],
      "execution_count": null,
      "outputs": []
    },
    {
      "cell_type": "code",
      "metadata": {
        "colab": {
          "base_uri": "https://localhost:8080/",
          "height": 203
        },
        "id": "gUVs7i5qFNKp",
        "outputId": "319d10b5-d225-4e20-eeed-634930a13707"
      },
      "source": [
        "ratings.head()"
      ],
      "execution_count": null,
      "outputs": [
        {
          "output_type": "execute_result",
          "data": {
            "text/html": [
              "<div>\n",
              "<style scoped>\n",
              "    .dataframe tbody tr th:only-of-type {\n",
              "        vertical-align: middle;\n",
              "    }\n",
              "\n",
              "    .dataframe tbody tr th {\n",
              "        vertical-align: top;\n",
              "    }\n",
              "\n",
              "    .dataframe thead th {\n",
              "        text-align: right;\n",
              "    }\n",
              "</style>\n",
              "<table border=\"1\" class=\"dataframe\">\n",
              "  <thead>\n",
              "    <tr style=\"text-align: right;\">\n",
              "      <th></th>\n",
              "      <th>userId</th>\n",
              "      <th>movieId</th>\n",
              "      <th>rating</th>\n",
              "    </tr>\n",
              "  </thead>\n",
              "  <tbody>\n",
              "    <tr>\n",
              "      <th>0</th>\n",
              "      <td>1</td>\n",
              "      <td>110</td>\n",
              "      <td>1.0</td>\n",
              "    </tr>\n",
              "    <tr>\n",
              "      <th>1</th>\n",
              "      <td>1</td>\n",
              "      <td>147</td>\n",
              "      <td>4.5</td>\n",
              "    </tr>\n",
              "    <tr>\n",
              "      <th>2</th>\n",
              "      <td>1</td>\n",
              "      <td>858</td>\n",
              "      <td>5.0</td>\n",
              "    </tr>\n",
              "    <tr>\n",
              "      <th>4</th>\n",
              "      <td>1</td>\n",
              "      <td>1246</td>\n",
              "      <td>5.0</td>\n",
              "    </tr>\n",
              "    <tr>\n",
              "      <th>5</th>\n",
              "      <td>1</td>\n",
              "      <td>1968</td>\n",
              "      <td>4.0</td>\n",
              "    </tr>\n",
              "  </tbody>\n",
              "</table>\n",
              "</div>"
            ],
            "text/plain": [
              "   userId  movieId  rating\n",
              "0       1      110     1.0\n",
              "1       1      147     4.5\n",
              "2       1      858     5.0\n",
              "4       1     1246     5.0\n",
              "5       1     1968     4.0"
            ]
          },
          "metadata": {
            "tags": []
          },
          "execution_count": 29
        }
      ]
    },
    {
      "cell_type": "code",
      "metadata": {
        "colab": {
          "base_uri": "https://localhost:8080/",
          "height": 566
        },
        "id": "7EdH5NegGXBE",
        "outputId": "46abaea3-4c49-47ab-e1cc-09cbb0eef452"
      },
      "source": [
        "fig = plt.figure(figsize=(16, 8))\n",
        "sns.set()\n",
        "sns.countplot(ratings.rating)\n",
        "plt.show()"
      ],
      "execution_count": null,
      "outputs": [
        {
          "output_type": "stream",
          "text": [
            "/usr/local/lib/python3.7/dist-packages/seaborn/_decorators.py:43: FutureWarning: Pass the following variable as a keyword arg: x. From version 0.12, the only valid positional argument will be `data`, and passing other arguments without an explicit keyword will result in an error or misinterpretation.\n",
            "  FutureWarning\n"
          ],
          "name": "stderr"
        },
        {
          "output_type": "display_data",
          "data": {
            "image/png": "[encoded data removed]",
            "text/plain": [
              "<Figure size 1152x576 with 1 Axes>"
            ]
          },
          "metadata": {
            "tags": [],
            "needs_background": "light"
          }
        }
      ]
    },
    {
      "cell_type": "code",
      "metadata": {
        "id": "8fK9PHHNJOkR"
      },
      "source": [
        "from keras.layers import Concatenate, Dense, Dropout, Input, Reshape, Dot, Activation, Lambda\n",
        "from keras.models import Model\n",
        "from keras.layers.embeddings import Embedding\n",
        "from keras.optimizers import Adam\n",
        "from keras.regularizers import l2\n",
        "from sklearn.model_selection import train_test_split\n",
        "from sklearn.preprocessing import LabelEncoder\n",
        "import tensorflow as tf"
      ],
      "execution_count": null,
      "outputs": []
    },
    {
      "cell_type": "code",
      "metadata": {
        "id": "NVgW6n3wEmdG"
      },
      "source": [
        "data = ratings.sample(frac=0.01)"
      ],
      "execution_count": null,
      "outputs": []
    },
    {
      "cell_type": "code",
      "metadata": {
        "colab": {
          "base_uri": "https://localhost:8080/"
        },
        "id": "2TpALS4QOS8N",
        "outputId": "3809b730-d158-4747-c4f0-7f300349d8d5"
      },
      "source": [
        "user_enc = LabelEncoder()\n",
        "data['user'] = user_enc.fit_transform(data['userId'].values)\n",
        "n_users = data['user'].nunique()\n",
        "\n",
        "item_enc = LabelEncoder()\n",
        "data['movie'] = item_enc.fit_transform(data['movieId'].values)\n",
        "n_movies = data['movie'].nunique()\n",
        "\n",
        "data['rating'] = data['rating'].values.astype(np.float32)\n",
        "min_rating = min(data['rating'])\n",
        "max_rating = max(data['rating'])\n",
        "data['rating'] = (data['rating'] - min_rating) / (max_rating - min_rating)\n",
        "n_users, n_movies, min_rating, max_rating"
      ],
      "execution_count": null,
      "outputs": [
        {
          "output_type": "execute_result",
          "data": {
            "text/plain": [
              "(66934, 3561, 0.5, 5.0)"
            ]
          },
          "metadata": {
            "tags": []
          },
          "execution_count": 33
        }
      ]
    },
    {
      "cell_type": "code",
      "metadata": {
        "colab": {
          "base_uri": "https://localhost:8080/",
          "height": 203
        },
        "id": "zLSpQYRoOiDy",
        "outputId": "4d9fbf93-e4e0-48f6-bbc8-9baa64d55028"
      },
      "source": [
        "data.head()"
      ],
      "execution_count": null,
      "outputs": [
        {
          "output_type": "execute_result",
          "data": {
            "text/html": [
              "<div>\n",
              "<style scoped>\n",
              "    .dataframe tbody tr th:only-of-type {\n",
              "        vertical-align: middle;\n",
              "    }\n",
              "\n",
              "    .dataframe tbody tr th {\n",
              "        vertical-align: top;\n",
              "    }\n",
              "\n",
              "    .dataframe thead th {\n",
              "        text-align: right;\n",
              "    }\n",
              "</style>\n",
              "<table border=\"1\" class=\"dataframe\">\n",
              "  <thead>\n",
              "    <tr style=\"text-align: right;\">\n",
              "      <th></th>\n",
              "      <th>userId</th>\n",
              "      <th>movieId</th>\n",
              "      <th>rating</th>\n",
              "      <th>user</th>\n",
              "      <th>movie</th>\n",
              "    </tr>\n",
              "  </thead>\n",
              "  <tbody>\n",
              "    <tr>\n",
              "      <th>22233826</th>\n",
              "      <td>230786</td>\n",
              "      <td>858</td>\n",
              "      <td>1.000000</td>\n",
              "      <td>57187</td>\n",
              "      <td>594</td>\n",
              "    </tr>\n",
              "    <tr>\n",
              "      <th>25330469</th>\n",
              "      <td>263700</td>\n",
              "      <td>2335</td>\n",
              "      <td>0.555556</td>\n",
              "      <td>65214</td>\n",
              "      <td>1285</td>\n",
              "    </tr>\n",
              "    <tr>\n",
              "      <th>20864997</th>\n",
              "      <td>216844</td>\n",
              "      <td>49957</td>\n",
              "      <td>1.000000</td>\n",
              "      <td>53750</td>\n",
              "      <td>2935</td>\n",
              "    </tr>\n",
              "    <tr>\n",
              "      <th>22760299</th>\n",
              "      <td>236517</td>\n",
              "      <td>1833</td>\n",
              "      <td>0.333333</td>\n",
              "      <td>58543</td>\n",
              "      <td>979</td>\n",
              "    </tr>\n",
              "    <tr>\n",
              "      <th>9210131</th>\n",
              "      <td>95108</td>\n",
              "      <td>1266</td>\n",
              "      <td>0.777778</td>\n",
              "      <td>23639</td>\n",
              "      <td>739</td>\n",
              "    </tr>\n",
              "  </tbody>\n",
              "</table>\n",
              "</div>"
            ],
            "text/plain": [
              "          userId  movieId    rating   user  movie\n",
              "22233826  230786      858  1.000000  57187    594\n",
              "25330469  263700     2335  0.555556  65214   1285\n",
              "20864997  216844    49957  1.000000  53750   2935\n",
              "22760299  236517     1833  0.333333  58543    979\n",
              "9210131    95108     1266  0.777778  23639    739"
            ]
          },
          "metadata": {
            "tags": []
          },
          "execution_count": 34
        }
      ]
    },
    {
      "cell_type": "code",
      "metadata": {
        "colab": {
          "base_uri": "https://localhost:8080/"
        },
        "id": "DDq1EPWIOnl8",
        "outputId": "1a57c253-90d9-4d67-c2ec-a8cb5ed800bc"
      },
      "source": [
        "X = data[['user', 'movie']].values\n",
        "y = data['rating'].values\n",
        "X_train, X_test, y_train, y_test = train_test_split(X, y, test_size=0.3, shuffle=True, random_state=42)\n",
        "X_train.shape, X_test.shape, y_train.shape, y_test.shape"
      ],
      "execution_count": null,
      "outputs": [
        {
          "output_type": "execute_result",
          "data": {
            "text/plain": [
              "((79588, 2), (34110, 2), (79588,), (34110,))"
            ]
          },
          "metadata": {
            "tags": []
          },
          "execution_count": 35
        }
      ]
    },
    {
      "cell_type": "code",
      "metadata": {
        "id": "8UzmsXtxO18w"
      },
      "source": [
        "n_factors = 50\n",
        "#X_train_array = np.array([X_train[:, 0], X_train[:, 1]])\n",
        "#X_test_array = np.array([X_test[:, 0], X_test[:, 1]])"
      ],
      "execution_count": null,
      "outputs": []
    },
    {
      "cell_type": "code",
      "metadata": {
        "id": "OLBSPX1sPWMB"
      },
      "source": [
        "\"\"\"\n",
        "class EmbeddingLayer:\n",
        "    def __init__(self, n_items, n_factors):\n",
        "        self.n_items = n_items\n",
        "        self.n_factors = n_factors\n",
        "    \n",
        "    def __call__(self, x):\n",
        "        x = Embedding(self.n_items, self.n_factors, embeddings_initializer='he_normal',\n",
        "                      embeddings_regularizer=l2(1e-6))(x)\n",
        "        x = Reshape((self.n_factors,))(x)\n",
        "        return x\n",
        "\"\"\""
      ],
      "execution_count": null,
      "outputs": []
    },
    {
      "cell_type": "code",
      "metadata": {
        "id": "OvRaWflQI3HA"
      },
      "source": [
        "\"\"\"\n",
        "def RecommenderNet(n_users, n_movies, n_factors, min_rating, max_rating):\n",
        "    user = Input(shape=(1,))\n",
        "    u = EmbeddingLayer(n_users, n_factors)(user)\n",
        "    \n",
        "    movie = Input(shape=(1,))\n",
        "    m = EmbeddingLayer(n_movies, n_factors)(movie)\n",
        "    \n",
        "    x = Concatenate()([u, m])\n",
        "    x = Dropout(0.05)(x)\n",
        "    \n",
        "    x = Dense(10, kernel_initializer='he_normal')(x)\n",
        "    x = Activation('relu')(x)\n",
        "    x = Dropout(0.5)(x)\n",
        "    \n",
        "    x = Dense(1, kernel_initializer='he_normal')(x)\n",
        "    x = Activation('sigmoid')(x)\n",
        "    x = Lambda(lambda x: x * (max_rating - min_rating) + min_rating)(x)\n",
        "    model = Model(inputs=[user, movie], outputs=x)\n",
        "    opt = Adam(lr=0.001)\n",
        "    model.compile(loss='mean_squared_error', optimizer=opt)\n",
        "    return model\n",
        "\"\"\""
      ],
      "execution_count": null,
      "outputs": []
    },
    {
      "cell_type": "code",
      "metadata": {
        "id": "Oi2Cs9569qhD"
      },
      "source": [
        "class RecommenderNet(Model):\n",
        "    def __init__(self, num_users, num_movies, embedding_size, **kwargs):\n",
        "        super(RecommenderNet, self).__init__(**kwargs)\n",
        "        self.num_users = num_users\n",
        "        self.num_movies = num_movies\n",
        "        self.embedding_size = embedding_size\n",
        "        self.user_embedding = Embedding(\n",
        "            num_users,\n",
        "            embedding_size,\n",
        "            embeddings_initializer=\"he_normal\",\n",
        "            embeddings_regularizer=l2(1e-6),\n",
        "        )\n",
        "        self.user_bias = Embedding(num_users, 1)\n",
        "        self.movie_embedding = Embedding(\n",
        "            num_movies,\n",
        "            embedding_size,\n",
        "            embeddings_initializer=\"he_normal\",\n",
        "            embeddings_regularizer=l2(1e-6),\n",
        "        )\n",
        "        self.movie_bias = Embedding(num_movies, 1)\n",
        "\n",
        "    def call(self, inputs):\n",
        "        user_vector = self.user_embedding(inputs[:, 0])\n",
        "        user_bias = self.user_bias(inputs[:, 0])\n",
        "        movie_vector = self.movie_embedding(inputs[:, 1])\n",
        "        movie_bias = self.movie_bias(inputs[:, 1])\n",
        "        dot_user_movie = tf.tensordot(user_vector, movie_vector, 2)\n",
        "        # Add all the components (including bias)\n",
        "        x = dot_user_movie + user_bias + movie_bias\n",
        "        # The sigmoid activation forces the rating to between 0 and 1\n",
        "        return tf.nn.sigmoid(x)"
      ],
      "execution_count": null,
      "outputs": []
    },
    {
      "cell_type": "code",
      "metadata": {
        "colab": {
          "base_uri": "https://localhost:8080/"
        },
        "id": "nITL0FAuPFzo",
        "outputId": "62503026-d2e3-4cde-d902-8665298b923b"
      },
      "source": [
        "model = RecommenderNet(n_users, n_movies, n_factors)\n",
        "model.compile(loss=tf.keras.losses.BinaryCrossentropy(), \n",
        "              metrics=['mse', 'mae'],\n",
        "              optimizer=Adam(lr=0.001)\n",
        ")"
      ],
      "execution_count": null,
      "outputs": [
        {
          "output_type": "stream",
          "text": [
            "/usr/local/lib/python3.7/dist-packages/tensorflow/python/keras/optimizer_v2/optimizer_v2.py:375: UserWarning: The `lr` argument is deprecated, use `learning_rate` instead.\n",
            "  \"The `lr` argument is deprecated, use `learning_rate` instead.\")\n"
          ],
          "name": "stderr"
        }
      ]
    },
    {
      "cell_type": "code",
      "metadata": {
        "colab": {
          "base_uri": "https://localhost:8080/"
        },
        "id": "GJW88LR6PGpa",
        "outputId": "45f24631-5684-4767-a762-0799e5050d0e"
      },
      "source": [
        "history = model.fit(x=X_train, y=y_train, batch_size=64, epochs=10,\n",
        "                    verbose=1, validation_data=(X_test, y_test))"
      ],
      "execution_count": null,
      "outputs": [
        {
          "output_type": "stream",
          "text": [
            "Epoch 1/10\n",
            "2416/2416 [==============================] - 100s 35ms/step - loss: 0.6759 - mse: 0.0776 - val_loss: 0.6246 - val_mse: 0.0514\n",
            "Epoch 2/10\n",
            "2416/2416 [==============================] - 85s 35ms/step - loss: 0.6503 - mse: 0.0586 - val_loss: 0.6415 - val_mse: 0.0587\n",
            "Epoch 3/10\n",
            "2416/2416 [==============================] - 84s 35ms/step - loss: 0.6194 - mse: 0.0491 - val_loss: 0.6392 - val_mse: 0.0568\n",
            "Epoch 4/10\n",
            "2416/2416 [==============================] - 84s 35ms/step - loss: 0.6254 - mse: 0.0502 - val_loss: 0.6422 - val_mse: 0.0574\n",
            "Epoch 5/10\n",
            "2416/2416 [==============================] - 85s 35ms/step - loss: 0.6345 - mse: 0.0533 - val_loss: 0.6419 - val_mse: 0.0565\n",
            "Epoch 6/10\n",
            "2416/2416 [==============================] - 86s 35ms/step - loss: 0.6415 - mse: 0.0552 - val_loss: 0.6425 - val_mse: 0.0561\n",
            "Epoch 7/10\n",
            "2416/2416 [==============================] - 86s 35ms/step - loss: 0.6436 - mse: 0.0551 - val_loss: 0.6424 - val_mse: 0.0554\n",
            "Epoch 8/10\n",
            "2416/2416 [==============================] - 86s 36ms/step - loss: 0.6479 - mse: 0.0559 - val_loss: 0.6440 - val_mse: 0.0555\n",
            "Epoch 9/10\n",
            "2416/2416 [==============================] - 85s 35ms/step - loss: 0.6507 - mse: 0.0570 - val_loss: 0.6429 - val_mse: 0.0544\n",
            "Epoch 10/10\n",
            "2416/2416 [==============================] - 86s 35ms/step - loss: 0.6540 - mse: 0.0558 - val_loss: 0.6461 - val_mse: 0.0555\n"
          ],
          "name": "stdout"
        }
      ]
    },
    {
      "cell_type": "code",
      "metadata": {
        "colab": {
          "base_uri": "https://localhost:8080/"
        },
        "id": "HgVELL-67lx9",
        "outputId": "8f8dcb26-7f8f-435f-a0fc-12692b9b2247"
      },
      "source": [
        "unique, counts = np.unique(X_train[:, 0], return_counts=True)\n",
        "d = dict(zip(unique, counts))\n",
        "sorted(d.items(), key=lambda x: -x[1])[:5]"
      ],
      "execution_count": null,
      "outputs": [
        {
          "output_type": "execute_result",
          "data": {
            "text/plain": [
              "[(3001, 53), (16063, 47), (63196, 45), (24856, 41), (37832, 40)]"
            ]
          },
          "metadata": {
            "tags": []
          },
          "execution_count": 152
        }
      ]
    },
    {
      "cell_type": "code",
      "metadata": {
        "id": "7-hXSXD6GSo0"
      },
      "source": [
        "def get_recommendation(user_id):\n",
        "  for_present = np.vstack((np.array([user_id] * n_movies), np.arange(n_movies))).T\n",
        "  for_present = pd.DataFrame(for_present, columns=['user', 'movie'])\n",
        "  for_present['rating'] = model.predict(for_present) * 4.5 + .5\n",
        "  for_present['watched'] = for_present['movie'].apply(lambda x: 1 if x in X_train[X_train[:, 0] == user_id][:, 1] else 0)\n",
        "  for_present = for_present.loc[for_present['watched'] == 0].sort_values('rating', ascending=False)\n",
        "  for_present['new_movie'] = item_enc.inverse_transform(for_present['movie'])\n",
        "  return for_present.merge(titles, left_on='new_movie', right_on='id')[['title', 'rating']].head(10)"
      ],
      "execution_count": null,
      "outputs": []
    },
    {
      "cell_type": "code",
      "metadata": {
        "colab": {
          "base_uri": "https://localhost:8080/",
          "height": 357
        },
        "id": "McRMeatwG1u_",
        "outputId": "ae6a5c2c-68cf-4ef2-da22-3fedec8225e8"
      },
      "source": [
        "get_recommendation(16063)"
      ],
      "execution_count": null,
      "outputs": [
        {
          "output_type": "execute_result",
          "data": {
            "text/html": [
              "<div>\n",
              "<style scoped>\n",
              "    .dataframe tbody tr th:only-of-type {\n",
              "        vertical-align: middle;\n",
              "    }\n",
              "\n",
              "    .dataframe tbody tr th {\n",
              "        vertical-align: top;\n",
              "    }\n",
              "\n",
              "    .dataframe thead th {\n",
              "        text-align: right;\n",
              "    }\n",
              "</style>\n",
              "<table border=\"1\" class=\"dataframe\">\n",
              "  <thead>\n",
              "    <tr style=\"text-align: right;\">\n",
              "      <th></th>\n",
              "      <th>title</th>\n",
              "      <th>rating</th>\n",
              "    </tr>\n",
              "  </thead>\n",
              "  <tbody>\n",
              "    <tr>\n",
              "      <th>0</th>\n",
              "      <td>The Thomas Crown Affair</td>\n",
              "      <td>4.512583</td>\n",
              "    </tr>\n",
              "    <tr>\n",
              "      <th>1</th>\n",
              "      <td>Sleepless in Seattle</td>\n",
              "      <td>4.439126</td>\n",
              "    </tr>\n",
              "    <tr>\n",
              "      <th>2</th>\n",
              "      <td>Dead Man</td>\n",
              "      <td>4.432932</td>\n",
              "    </tr>\n",
              "    <tr>\n",
              "      <th>3</th>\n",
              "      <td>Galaxy Quest</td>\n",
              "      <td>4.421992</td>\n",
              "    </tr>\n",
              "    <tr>\n",
              "      <th>4</th>\n",
              "      <td>Dr. Jekyll and Mr. Hyde</td>\n",
              "      <td>4.398705</td>\n",
              "    </tr>\n",
              "    <tr>\n",
              "      <th>5</th>\n",
              "      <td>Dawn of the Dead</td>\n",
              "      <td>4.383472</td>\n",
              "    </tr>\n",
              "    <tr>\n",
              "      <th>6</th>\n",
              "      <td>Gremlins 2: The New Batch</td>\n",
              "      <td>4.368866</td>\n",
              "    </tr>\n",
              "    <tr>\n",
              "      <th>7</th>\n",
              "      <td>Solaris</td>\n",
              "      <td>4.360071</td>\n",
              "    </tr>\n",
              "    <tr>\n",
              "      <th>8</th>\n",
              "      <td>Beetlejuice</td>\n",
              "      <td>4.359638</td>\n",
              "    </tr>\n",
              "    <tr>\n",
              "      <th>9</th>\n",
              "      <td>The Thomas Crown Affair</td>\n",
              "      <td>4.350326</td>\n",
              "    </tr>\n",
              "  </tbody>\n",
              "</table>\n",
              "</div>"
            ],
            "text/plain": [
              "                       title    rating\n",
              "0    The Thomas Crown Affair  4.512583\n",
              "1       Sleepless in Seattle  4.439126\n",
              "2                   Dead Man  4.432932\n",
              "3               Galaxy Quest  4.421992\n",
              "4    Dr. Jekyll and Mr. Hyde  4.398705\n",
              "5           Dawn of the Dead  4.383472\n",
              "6  Gremlins 2: The New Batch  4.368866\n",
              "7                    Solaris  4.360071\n",
              "8                Beetlejuice  4.359638\n",
              "9    The Thomas Crown Affair  4.350326"
            ]
          },
          "metadata": {
            "tags": []
          },
          "execution_count": 156
        }
      ]
    },
    {
      "cell_type": "code",
      "metadata": {
        "colab": {
          "base_uri": "https://localhost:8080/"
        },
        "id": "zpELRZDlm_cv",
        "outputId": "b6f9d6e3-6800-4708-866b-011b8a63c3f7"
      },
      "source": [
        "history.history"
      ],
      "execution_count": null,
      "outputs": [
        {
          "output_type": "execute_result",
          "data": {
            "text/plain": [
              "{'loss': [0.6564590930938721,\n",
              "  0.6260020136833191,\n",
              "  0.6174732446670532,\n",
              "  0.6216855645179749,\n",
              "  0.6303727030754089,\n",
              "  0.6359187364578247,\n",
              "  0.6403518915176392,\n",
              "  0.645333468914032,\n",
              "  0.6491097807884216,\n",
              "  0.650198757648468],\n",
              " 'mse': [0.06787654757499695,\n",
              "  0.051403697580099106,\n",
              "  0.047845277935266495,\n",
              "  0.0487261638045311,\n",
              "  0.05140313133597374,\n",
              "  0.05281655117869377,\n",
              "  0.05394638329744339,\n",
              "  0.05508928373456001,\n",
              "  0.056244801729917526,\n",
              "  0.05479913577437401],\n",
              " 'val_loss': [0.6246057748794556,\n",
              "  0.6414551734924316,\n",
              "  0.6391817927360535,\n",
              "  0.6422388553619385,\n",
              "  0.6419363021850586,\n",
              "  0.6425125002861023,\n",
              "  0.6424057483673096,\n",
              "  0.6439620852470398,\n",
              "  0.6428512930870056,\n",
              "  0.6461243629455566],\n",
              " 'val_mse': [0.051439814269542694,\n",
              "  0.05866432934999466,\n",
              "  0.05676838383078575,\n",
              "  0.05739493668079376,\n",
              "  0.05649062618613243,\n",
              "  0.05606994032859802,\n",
              "  0.05535978823900223,\n",
              "  0.05549202859401703,\n",
              "  0.054379649460315704,\n",
              "  0.05546245723962784]}"
            ]
          },
          "metadata": {
            "tags": []
          },
          "execution_count": 30
        }
      ]
    },
    {
      "cell_type": "code",
      "metadata": {
        "colab": {
          "base_uri": "https://localhost:8080/",
          "height": 502
        },
        "id": "KdiX8TrbTUnN",
        "outputId": "0b1f93b8-fec3-48fc-af9e-4666845c2f13"
      },
      "source": [
        "fig=plt.figure(figsize=(16,8))\n",
        "sns.set()\n",
        "plt.plot(history.history['mse'], label='noauto_mse')\n",
        "plt.plot(history.history['loss'], label='noauto_loss')\n",
        "plt.plot(history.history['val_loss'], label='noauto_val_loss')\n",
        "plt.legend()\n",
        "plt.xlabel('epoch')\n",
        "plt.show()"
      ],
      "execution_count": null,
      "outputs": [
        {
          "output_type": "display_data",
          "data": {
            "image/png": "[encoded data removed]",
            "text/plain": [
              "<Figure size 1152x576 with 1 Axes>"
            ]
          },
          "metadata": {
            "tags": []
          }
        }
      ]
    },
    {
      "cell_type": "code",
      "metadata": {
        "id": "RAhcsdeLPjAm"
      },
      "source": [
        "user = ak.Input()\n",
        "u = ak.Embedding(n_users)(user)\n",
        "#u = Embedding(n_users,n_factors,embeddings_initializer=\"he_normal\",embeddings_regularizer=l2(1e-6))(user)\n",
        "\n",
        "movie = ak.Input()\n",
        "m = ak.Embedding(n_movies)(movie)\n",
        "#m = Embedding(n_movies, n_factors, embeddings_initializer=\"he_normal\", embeddings_regularizer=l2(1e-6))(movie)\n",
        "\n",
        "x = ak.Merge('concatenate')([u, m])\n",
        "x = ak.DenseBlock()(x)\n",
        "regression_output = ak.RegressionHead()(x)\n",
        "\n",
        "\n",
        "auto_model = ak.AutoModel(inputs=[user, movie],\n",
        "                          outputs=regression_output, \n",
        "                          overwrite=True,\n",
        "                          seed=42,\n",
        "                          loss='binary_crossentropy',\n",
        "                          tuner='greedy',\n",
        "                          metrics=['mse'],\n",
        "                          max_trials=6)"
      ],
      "execution_count": null,
      "outputs": []
    },
    {
      "cell_type": "code",
      "metadata": {
        "colab": {
          "base_uri": "https://localhost:8080/"
        },
        "id": "EgW_bcwD2ijr",
        "outputId": "01be4fb1-5df0-49d1-acce-f0ee22932e50"
      },
      "source": [
        "auto_history = auto_model.fit(\n",
        "    x=(X_train[:, 0], X_train[:, 1]),\n",
        "    y=y_train,\n",
        "    batch_size=64,\n",
        "    epochs=1,\n",
        "    validation_data=((X_test[:, 0], X_test[:, 1]), y_test)\n",
        "    )"
      ],
      "execution_count": null,
      "outputs": [
        {
          "output_type": "stream",
          "text": [
            "Trial 6 Complete [00h 01m 42s]\n",
            "val_loss: 0.6138266921043396\n",
            "\n",
            "Best val_loss So Far: 0.6132068037986755\n",
            "Total elapsed time: 00h 12m 20s\n",
            "INFO:tensorflow:Oracle triggered exit\n",
            "1244/1244 [==============================] - 101s 81ms/step - loss: 0.6554 - mse: 0.0629 - val_loss: 0.6141 - val_mse: 0.0485\n",
            "INFO:tensorflow:Assets written to: ./auto_model/best_model/assets\n"
          ],
          "name": "stdout"
        }
      ]
    },
    {
      "cell_type": "code",
      "metadata": {
        "id": "T86qpky7bKmq"
      },
      "source": [
        "m = auto_model.export_model()"
      ],
      "execution_count": null,
      "outputs": []
    },
    {
      "cell_type": "code",
      "metadata": {
        "colab": {
          "base_uri": "https://localhost:8080/"
        },
        "id": "trodqJewbfL1",
        "outputId": "92c43a56-0d86-43df-eca3-2f6b9151b000"
      },
      "source": [
        "m.summary()"
      ],
      "execution_count": null,
      "outputs": [
        {
          "output_type": "stream",
          "text": [
            "Model: \"model\"\n",
            "__________________________________________________________________________________________________\n",
            "Layer (type)                    Output Shape         Param #     Connected to                     \n",
            "==================================================================================================\n",
            "input_1 (InputLayer)            [(None,)]            0                                            \n",
            "__________________________________________________________________________________________________\n",
            "input_2 (InputLayer)            [(None,)]            0                                            \n",
            "__________________________________________________________________________________________________\n",
            "cast_to_float32 (CastToFloat32) (None,)              0           input_1[0][0]                    \n",
            "__________________________________________________________________________________________________\n",
            "cast_to_float32_1 (CastToFloat3 (None,)              0           input_2[0][0]                    \n",
            "__________________________________________________________________________________________________\n",
            "embedding (Embedding)           (None, 128)          8567552     cast_to_float32[0][0]            \n",
            "__________________________________________________________________________________________________\n",
            "embedding_1 (Embedding)         (None, 128)          455808      cast_to_float32_1[0][0]          \n",
            "__________________________________________________________________________________________________\n",
            "dropout (Dropout)               (None, 128)          0           embedding[0][0]                  \n",
            "__________________________________________________________________________________________________\n",
            "dropout_1 (Dropout)             (None, 128)          0           embedding_1[0][0]                \n",
            "__________________________________________________________________________________________________\n",
            "concatenate (Concatenate)       (None, 256)          0           dropout[0][0]                    \n",
            "                                                                 dropout_1[0][0]                  \n",
            "__________________________________________________________________________________________________\n",
            "dense (Dense)                   (None, 32)           8224        concatenate[0][0]                \n",
            "__________________________________________________________________________________________________\n",
            "re_lu (ReLU)                    (None, 32)           0           dense[0][0]                      \n",
            "__________________________________________________________________________________________________\n",
            "dense_1 (Dense)                 (None, 32)           1056        re_lu[0][0]                      \n",
            "__________________________________________________________________________________________________\n",
            "re_lu_1 (ReLU)                  (None, 32)           0           dense_1[0][0]                    \n",
            "__________________________________________________________________________________________________\n",
            "regression_head_1 (Dense)       (None, 1)            33          re_lu_1[0][0]                    \n",
            "==================================================================================================\n",
            "Total params: 9,032,673\n",
            "Trainable params: 9,032,673\n",
            "Non-trainable params: 0\n",
            "__________________________________________________________________________________________________\n"
          ],
          "name": "stdout"
        }
      ]
    },
    {
      "cell_type": "code",
      "metadata": {
        "id": "MXHEID_jfTrx"
      },
      "source": [
        "def get_recommendation_v2(user_id):\n",
        "  for_present = np.vstack((np.array([user_id] * n_movies), np.arange(n_movies))).T\n",
        "  for_present = pd.DataFrame(for_present, columns=['user', 'movie'])\n",
        "  X = for_present[['user', 'movie']].values\n",
        "  rates = auto_model.predict((X[:, 0], X[:, 1])) * 4.5 + .5\n",
        "  for_present['rating'] = rates\n",
        "  for_present['watched'] = for_present['movie'].apply(lambda x: 1 if x in X_train[X_train[:, 0] == user_id][:, 1] else 0)\n",
        "  for_present = for_present.loc[for_present['watched'] == 0].sort_values('rating', ascending=False)\n",
        "  for_present['new_movie'] = item_enc.inverse_transform(for_present['movie'])\n",
        "  return for_present.merge(titles, left_on='new_movie', right_on='id')[['title', 'rating']].head(10)"
      ],
      "execution_count": null,
      "outputs": []
    },
    {
      "cell_type": "code",
      "metadata": {
        "colab": {
          "base_uri": "https://localhost:8080/",
          "height": 374
        },
        "id": "PYkuelQzfnOX",
        "outputId": "8ae0a60f-2af0-4317-c176-b00e067e5b9d"
      },
      "source": [
        "get_recommendation_v2(16063)#3001"
      ],
      "execution_count": null,
      "outputs": [
        {
          "output_type": "stream",
          "text": [
            "245/245 [==============================] - 0s 1ms/step\n"
          ],
          "name": "stdout"
        },
        {
          "output_type": "execute_result",
          "data": {
            "text/html": [
              "<div>\n",
              "<style scoped>\n",
              "    .dataframe tbody tr th:only-of-type {\n",
              "        vertical-align: middle;\n",
              "    }\n",
              "\n",
              "    .dataframe tbody tr th {\n",
              "        vertical-align: top;\n",
              "    }\n",
              "\n",
              "    .dataframe thead th {\n",
              "        text-align: right;\n",
              "    }\n",
              "</style>\n",
              "<table border=\"1\" class=\"dataframe\">\n",
              "  <thead>\n",
              "    <tr style=\"text-align: right;\">\n",
              "      <th></th>\n",
              "      <th>title</th>\n",
              "      <th>rating</th>\n",
              "    </tr>\n",
              "  </thead>\n",
              "  <tbody>\n",
              "    <tr>\n",
              "      <th>0</th>\n",
              "      <td>The Million Dollar Hotel</td>\n",
              "      <td>4.710243</td>\n",
              "    </tr>\n",
              "    <tr>\n",
              "      <th>1</th>\n",
              "      <td>The Soft Skin</td>\n",
              "      <td>4.513959</td>\n",
              "    </tr>\n",
              "    <tr>\n",
              "      <th>2</th>\n",
              "      <td>The Talented Mr. Ripley</td>\n",
              "      <td>4.508007</td>\n",
              "    </tr>\n",
              "    <tr>\n",
              "      <th>3</th>\n",
              "      <td>Hard Target</td>\n",
              "      <td>4.499407</td>\n",
              "    </tr>\n",
              "    <tr>\n",
              "      <th>4</th>\n",
              "      <td>Hannibal Rising</td>\n",
              "      <td>4.495997</td>\n",
              "    </tr>\n",
              "    <tr>\n",
              "      <th>5</th>\n",
              "      <td>Farewell, Friend</td>\n",
              "      <td>4.479396</td>\n",
              "    </tr>\n",
              "    <tr>\n",
              "      <th>6</th>\n",
              "      <td>The Good Thief</td>\n",
              "      <td>4.453622</td>\n",
              "    </tr>\n",
              "    <tr>\n",
              "      <th>7</th>\n",
              "      <td>The Sixth Sense</td>\n",
              "      <td>4.446445</td>\n",
              "    </tr>\n",
              "    <tr>\n",
              "      <th>8</th>\n",
              "      <td>Edward Scissorhands</td>\n",
              "      <td>4.422431</td>\n",
              "    </tr>\n",
              "    <tr>\n",
              "      <th>9</th>\n",
              "      <td>Miami Vice</td>\n",
              "      <td>4.414167</td>\n",
              "    </tr>\n",
              "  </tbody>\n",
              "</table>\n",
              "</div>"
            ],
            "text/plain": [
              "                      title    rating\n",
              "0  The Million Dollar Hotel  4.710243\n",
              "1             The Soft Skin  4.513959\n",
              "2   The Talented Mr. Ripley  4.508007\n",
              "3               Hard Target  4.499407\n",
              "4           Hannibal Rising  4.495997\n",
              "5          Farewell, Friend  4.479396\n",
              "6            The Good Thief  4.453622\n",
              "7           The Sixth Sense  4.446445\n",
              "8       Edward Scissorhands  4.422431\n",
              "9                Miami Vice  4.414167"
            ]
          },
          "metadata": {
            "tags": []
          },
          "execution_count": 227
        }
      ]
    },
    {
      "cell_type": "code",
      "metadata": {
        "colab": {
          "base_uri": "https://localhost:8080/",
          "height": 374
        },
        "id": "DiSL_OulilvA",
        "outputId": "3af544a0-9d43-47c8-f7b7-93048c728919"
      },
      "source": [
        "get_recommendation_v2(3001)"
      ],
      "execution_count": null,
      "outputs": [
        {
          "output_type": "stream",
          "text": [
            "245/245 [==============================] - 0s 1ms/step\n"
          ],
          "name": "stdout"
        },
        {
          "output_type": "execute_result",
          "data": {
            "text/html": [
              "<div>\n",
              "<style scoped>\n",
              "    .dataframe tbody tr th:only-of-type {\n",
              "        vertical-align: middle;\n",
              "    }\n",
              "\n",
              "    .dataframe tbody tr th {\n",
              "        vertical-align: top;\n",
              "    }\n",
              "\n",
              "    .dataframe thead th {\n",
              "        text-align: right;\n",
              "    }\n",
              "</style>\n",
              "<table border=\"1\" class=\"dataframe\">\n",
              "  <thead>\n",
              "    <tr style=\"text-align: right;\">\n",
              "      <th></th>\n",
              "      <th>title</th>\n",
              "      <th>rating</th>\n",
              "    </tr>\n",
              "  </thead>\n",
              "  <tbody>\n",
              "    <tr>\n",
              "      <th>0</th>\n",
              "      <td>The Million Dollar Hotel</td>\n",
              "      <td>4.573888</td>\n",
              "    </tr>\n",
              "    <tr>\n",
              "      <th>1</th>\n",
              "      <td>The Talented Mr. Ripley</td>\n",
              "      <td>4.355257</td>\n",
              "    </tr>\n",
              "    <tr>\n",
              "      <th>2</th>\n",
              "      <td>Hard Target</td>\n",
              "      <td>4.318328</td>\n",
              "    </tr>\n",
              "    <tr>\n",
              "      <th>3</th>\n",
              "      <td>Hannibal Rising</td>\n",
              "      <td>4.295158</td>\n",
              "    </tr>\n",
              "    <tr>\n",
              "      <th>4</th>\n",
              "      <td>The Sixth Sense</td>\n",
              "      <td>4.289175</td>\n",
              "    </tr>\n",
              "    <tr>\n",
              "      <th>5</th>\n",
              "      <td>Farewell, Friend</td>\n",
              "      <td>4.287578</td>\n",
              "    </tr>\n",
              "    <tr>\n",
              "      <th>6</th>\n",
              "      <td>The Soft Skin</td>\n",
              "      <td>4.286912</td>\n",
              "    </tr>\n",
              "    <tr>\n",
              "      <th>7</th>\n",
              "      <td>Sleepless in Seattle</td>\n",
              "      <td>4.232269</td>\n",
              "    </tr>\n",
              "    <tr>\n",
              "      <th>8</th>\n",
              "      <td>Miami Vice</td>\n",
              "      <td>4.232214</td>\n",
              "    </tr>\n",
              "    <tr>\n",
              "      <th>9</th>\n",
              "      <td>A Woman, a Gun and a Noodle Shop</td>\n",
              "      <td>4.228520</td>\n",
              "    </tr>\n",
              "  </tbody>\n",
              "</table>\n",
              "</div>"
            ],
            "text/plain": [
              "                              title    rating\n",
              "0          The Million Dollar Hotel  4.573888\n",
              "1           The Talented Mr. Ripley  4.355257\n",
              "2                       Hard Target  4.318328\n",
              "3                   Hannibal Rising  4.295158\n",
              "4                   The Sixth Sense  4.289175\n",
              "5                  Farewell, Friend  4.287578\n",
              "6                     The Soft Skin  4.286912\n",
              "7              Sleepless in Seattle  4.232269\n",
              "8                        Miami Vice  4.232214\n",
              "9  A Woman, a Gun and a Noodle Shop  4.228520"
            ]
          },
          "metadata": {
            "tags": []
          },
          "execution_count": 228
        }
      ]
    },
    {
      "cell_type": "code",
      "metadata": {
        "id": "AuEIAOwc2oLh"
      },
      "source": [
        "#binary_crossentropy\n",
        "auto_history_greedy = {\n",
        "    \"val_loss\": [0.61, 0.61, 0.61, 0.6102, 0.6111, 0.609, 0.608, 0.607],\n",
        "    \"val_mse\": [0.049, 0.0463, 0.046, 0.04654, 0.0469, 0.0489, 0.05, 0.0495]\n",
        "    }\n",
        "\n",
        "auto_history_bayesian = {\n",
        "    \"val_loss\": [0.61, 0.605, 0.615, 0.6, 0.605, 0.599, 0.600, 0.609],\n",
        "    \"val_mse\": [0.05, 0.0461, 0.0449, 0.05, 0.0473, 0.0471, 0.0443, 0.0437]\n",
        "    }\n",
        "\n",
        "auto_history_random = {\n",
        "    \"val_loss\": [0.64, 0.65, 0.661, 0.69, 0.633, 0.629, 0.611, 0.68],\n",
        "    \"val_mse\": [0.062, 0.056, 0.0524, 0.061, 0.053, 0.064, 0.0521, 0.063]\n",
        "    }"
      ],
      "execution_count": null,
      "outputs": []
    },
    {
      "cell_type": "code",
      "metadata": {
        "colab": {
          "base_uri": "https://localhost:8080/"
        },
        "id": "_rsXwNhfbXI1",
        "outputId": "b6797ef5-7387-456a-fb9a-fd6cdea3345b"
      },
      "source": [
        "for i in range(8):\n",
        "  print(min(auto_history_bayesian['val_mse'][i], min(auto_history_random['val_mse'][i], auto_history_greedy['val_mse'][i])))"
      ],
      "execution_count": null,
      "outputs": [
        {
          "output_type": "stream",
          "text": [
            "0.049\n",
            "0.0461\n",
            "0.0449\n",
            "0.04654\n",
            "0.0469\n",
            "0.0471\n",
            "0.0443\n",
            "0.0437\n"
          ],
          "name": "stdout"
        }
      ]
    },
    {
      "cell_type": "code",
      "metadata": {
        "id": "bOskLjivSEVC"
      },
      "source": [
        "x_axis=['auto_model_1',\n",
        "        'auto_model_2',\n",
        "        'auto_model_3',\n",
        "        'auto_model_4',\n",
        "        'auto_model_5',\n",
        "        'auto_model_6',\n",
        "        'auto_model_7',\n",
        "        'auto_model_8'\n",
        "        ]"
      ],
      "execution_count": null,
      "outputs": []
    },
    {
      "cell_type": "code",
      "metadata": {
        "id": "R9lHSoFSR6AE"
      },
      "source": [
        "import matplotlib.pyplot as plt\n",
        "import seaborn as sns"
      ],
      "execution_count": null,
      "outputs": []
    },
    {
      "cell_type": "code",
      "metadata": {
        "colab": {
          "base_uri": "https://localhost:8080/",
          "height": 627
        },
        "id": "ltiHsIyzSlWf",
        "outputId": "49f4fed7-fac0-455e-b968-fd0e84726fbf"
      },
      "source": [
        "fig=plt.figure(figsize=(16,8))\n",
        "sns.set()\n",
        "sns.scatterplot(auto_history_greedy['val_loss'], auto_history_greedy['val_mse'], label='greedy')\n",
        "sns.scatterplot(auto_history_bayesian['val_loss'], auto_history_bayesian['val_mse'], label='bayesian')\n",
        "sns.scatterplot(auto_history_random['val_loss'], auto_history_random['val_mse'], label='random')\n",
        "plt.xlabel('val_loss')\n",
        "plt.ylabel('val_mse')\n",
        "plt.show()"
      ],
      "execution_count": null,
      "outputs": [
        {
          "output_type": "stream",
          "text": [
            "/usr/local/lib/python3.7/dist-packages/seaborn/_decorators.py:43: FutureWarning: Pass the following variables as keyword args: x, y. From version 0.12, the only valid positional argument will be `data`, and passing other arguments without an explicit keyword will result in an error or misinterpretation.\n",
            "  FutureWarning\n",
            "/usr/local/lib/python3.7/dist-packages/seaborn/_decorators.py:43: FutureWarning: Pass the following variables as keyword args: x, y. From version 0.12, the only valid positional argument will be `data`, and passing other arguments without an explicit keyword will result in an error or misinterpretation.\n",
            "  FutureWarning\n",
            "/usr/local/lib/python3.7/dist-packages/seaborn/_decorators.py:43: FutureWarning: Pass the following variables as keyword args: x, y. From version 0.12, the only valid positional argument will be `data`, and passing other arguments without an explicit keyword will result in an error or misinterpretation.\n",
            "  FutureWarning\n"
          ],
          "name": "stderr"
        },
        {
          "output_type": "display_data",
          "data": {
            "image/png": "[encoded data removed]",
            "text/plain": [
              "<Figure size 1152x576 with 1 Axes>"
            ]
          },
          "metadata": {
            "tags": []
          }
        }
      ]
    },
    {
      "cell_type": "code",
      "metadata": {
        "colab": {
          "base_uri": "https://localhost:8080/",
          "height": 503
        },
        "id": "R9uLtpurSwce",
        "outputId": "315dafa0-a600-4741-f621-064d27c4a55d"
      },
      "source": [
        "fig=plt.figure(figsize=(16,8))\n",
        "plt.bar(x_axis, auto_history_greedy['val_mse'], label='greedy')\n",
        "plt.bar(x_axis, auto_history_bayesian['val_mse'], label='bayesian')\n",
        "plt.bar(x_axis, auto_history_random['val_mse'], label='random')\n",
        "plt.xlabel('val_loss')\n",
        "plt.ylabel('val_mse')\n",
        "plt.legend()\n",
        "plt.show()"
      ],
      "execution_count": null,
      "outputs": [
        {
          "output_type": "display_data",
          "data": {
            "image/png": "[encoded data removed]",
            "text/plain": [
              "<Figure size 1152x576 with 1 Axes>"
            ]
          },
          "metadata": {
            "tags": []
          }
        }
      ]
    },
    {
      "cell_type": "code",
      "metadata": {
        "id": "EqGRs-tzSVvA"
      },
      "source": [
        ""
      ],
      "execution_count": null,
      "outputs": []
    }
  ]
}
